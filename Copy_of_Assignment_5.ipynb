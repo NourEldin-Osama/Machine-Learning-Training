{
  "nbformat": 4,
  "nbformat_minor": 0,
  "metadata": {
    "colab": {
      "name": "Copy of Assignment_5.ipynb",
      "provenance": [],
      "include_colab_link": true
    },
    "kernelspec": {
      "name": "python3",
      "display_name": "Python 3"
    },
    "language_info": {
      "name": "python"
    }
  },
  "cells": [
    {
      "cell_type": "markdown",
      "metadata": {
        "id": "view-in-github",
        "colab_type": "text"
      },
      "source": [
        "<a href=\"https://colab.research.google.com/github/NourEldin-Osama/Machine-Learning-Training/blob/main/Copy_of_Assignment_5.ipynb\" target=\"_parent\"><img src=\"https://colab.research.google.com/assets/colab-badge.svg\" alt=\"Open In Colab\"/></a>"
      ]
    },
    {
      "cell_type": "markdown",
      "metadata": {
        "id": "vmlIHbPaiC_0"
      },
      "source": [
        "### Numpy Assignment"
      ]
    },
    {
      "cell_type": "code",
      "metadata": {
        "id": "KWa9iMCz4OMZ"
      },
      "source": [
        "import numpy as np"
      ],
      "execution_count": 1,
      "outputs": []
    },
    {
      "cell_type": "markdown",
      "metadata": {
        "id": "R2-PpfJUtJZ2"
      },
      "source": [
        "1.  Write a NumPy program to create an array of 10 zeros,10 ones, 10 fives.<br>\n",
        "\n",
        "\n",
        "SOL:  https://www.w3resource.com/python-exercises/numpy/basic/numpy-basic-exercise-13.php\n"
      ]
    },
    {
      "cell_type": "code",
      "metadata": {
        "id": "vXPoGG1Vht0J",
        "colab": {
          "base_uri": "https://localhost:8080/"
        },
        "outputId": "b1ae760c-fae0-44b6-f375-0c84c7172cd3"
      },
      "source": [
        "zeros_array = np.zeros(10)\n",
        "ones_array = np.ones(10)\n",
        "fives_array = np.multiply(ones_array, 5)  # or ones_array * 5\n",
        "print(zeros_array)\n",
        "print(ones_array)\n",
        "print(fives_array)"
      ],
      "execution_count": 2,
      "outputs": [
        {
          "output_type": "stream",
          "text": [
            "[0. 0. 0. 0. 0. 0. 0. 0. 0. 0.]\n",
            "[1. 1. 1. 1. 1. 1. 1. 1. 1. 1.]\n",
            "[5. 5. 5. 5. 5. 5. 5. 5. 5. 5.]\n"
          ],
          "name": "stdout"
        }
      ]
    },
    {
      "cell_type": "markdown",
      "metadata": {
        "id": "dQqdKgHqtqHu"
      },
      "source": [
        "2.  Write a NumPy program to create a 3x4 matrix filled with values from 10 to 21. <br>\n",
        "SOL: https://www.w3resource.com/python-exercises/numpy/basic/numpy-basic-exercise-25.php"
      ]
    },
    {
      "cell_type": "code",
      "metadata": {
        "id": "2PPwF0Hzt03m",
        "colab": {
          "base_uri": "https://localhost:8080/"
        },
        "outputId": "322e19df-fa79-43da-ca1d-76bbb24cd659"
      },
      "source": [
        "np.random.randint(10, 21, (3, 4))"
      ],
      "execution_count": 3,
      "outputs": [
        {
          "output_type": "execute_result",
          "data": {
            "text/plain": [
              "array([[12, 20, 20, 19],\n",
              "       [17, 12, 12, 16],\n",
              "       [16, 13, 19, 11]])"
            ]
          },
          "metadata": {
            "tags": []
          },
          "execution_count": 3
        }
      ]
    },
    {
      "cell_type": "markdown",
      "metadata": {
        "id": "AyPf52e3t1ZJ"
      },
      "source": [
        "3.  Write a NumPy program to check whether two arrays are equal (element wise) or not.<br>\n",
        "\n",
        "SOL: https://www.w3resource.com/python-exercises/numpy/basic/numpy-basic-exercise-44.php"
      ]
    },
    {
      "cell_type": "code",
      "metadata": {
        "id": "UnG4dTzht-7b",
        "colab": {
          "base_uri": "https://localhost:8080/"
        },
        "outputId": "9f58796f-5374-443c-83ac-a8cab5ede7c3"
      },
      "source": [
        "arr1 = np.array(range(1, 6))\n",
        "arr2 = np.array(range(1, 6))\n",
        "print(np.equal(arr1, arr2))\n",
        "arr1 = np.array([1, 3, 2, 4, 5])\n",
        "print(np.equal(arr1, arr2))"
      ],
      "execution_count": 4,
      "outputs": [
        {
          "output_type": "stream",
          "text": [
            "[ True  True  True  True  True]\n",
            "[ True False False  True  True]\n"
          ],
          "name": "stdout"
        }
      ]
    },
    {
      "cell_type": "markdown",
      "metadata": {
        "id": "L3rb3r1kuCvf"
      },
      "source": [
        "4.  Write a NumPy program to swap rows and columns of a given array in reverse order. <br>\n",
        "\n",
        "SOL: https://www.w3resource.com/python-exercises/numpy/basic/numpy-basic-exercise-58.php"
      ]
    },
    {
      "cell_type": "code",
      "metadata": {
        "id": "FFcrvrRhuMek",
        "colab": {
          "base_uri": "https://localhost:8080/"
        },
        "outputId": "b33f3db1-5530-47be-fc86-0fbbf82c8daa"
      },
      "source": [
        "arr = np.random.randint(1, 11, (2, 6))\n",
        "print(arr)\n",
        "print(arr[::-1, ::-1])"
      ],
      "execution_count": 5,
      "outputs": [
        {
          "output_type": "stream",
          "text": [
            "[[10  3  4 10  9  3]\n",
            " [ 8  1  2  8  2  1]]\n",
            "[[ 1  2  8  2  1  8]\n",
            " [ 3  9 10  4  3 10]]\n"
          ],
          "name": "stdout"
        }
      ]
    },
    {
      "cell_type": "markdown",
      "metadata": {
        "id": "rK3sUns9uM6Y"
      },
      "source": [
        "5. Write a NumPy program to create a null vector of size 10 and update sixth value to 11.<br>\n",
        "[ 0. 0. 0. 0. 0. 0. 0. 0. 0. 0.]<br>\n",
        "Update sixth value to 11<br>\n",
        "[ 0. 0. 0. 0. 0. 0. 11. 0. 0. 0.]<br>\n",
        "\n",
        "SOL: https://www.w3resource.com/python-exercises/numpy/python-numpy-exercise-4.php"
      ]
    },
    {
      "cell_type": "code",
      "metadata": {
        "id": "q9waGEm4uZ5t",
        "colab": {
          "base_uri": "https://localhost:8080/"
        },
        "outputId": "507f3476-0b9e-448b-cb5c-b66ae99056f0"
      },
      "source": [
        "x = np.zeros(10, dtype=np.int32)\n",
        "x[6] = 11\n",
        "x"
      ],
      "execution_count": 6,
      "outputs": [
        {
          "output_type": "execute_result",
          "data": {
            "text/plain": [
              "array([ 0,  0,  0,  0,  0,  0, 11,  0,  0,  0], dtype=int32)"
            ]
          },
          "metadata": {
            "tags": []
          },
          "execution_count": 6
        }
      ]
    },
    {
      "cell_type": "markdown",
      "metadata": {
        "id": "zgUhxxyauaYo"
      },
      "source": [
        "6. Write a NumPy program to convert a list and tuple into arrays. <br>\n",
        "List to array:<br>\n",
        "[1 2 3 4 5 6 7 8]<br>\n",
        "Tuple to array:<br>\n",
        "[[8 4 6]<br>\n",
        "[1 2 3]]<br>\n",
        "\n",
        "SOL: https://www.w3resource.com/python-exercises/numpy/python-numpy-exercise-11.php"
      ]
    },
    {
      "cell_type": "code",
      "metadata": {
        "id": "_MhuzDTMuq49",
        "colab": {
          "base_uri": "https://localhost:8080/"
        },
        "outputId": "32b6c9e7-f8dd-4169-e8f4-b8d7ed221dea"
      },
      "source": [
        "array1 = np.array(list(range(1, 9)))  # list(range(1, 9)) = [1, 2, 3, 4, 5, 6, 7, 8]\n",
        "array1"
      ],
      "execution_count": 7,
      "outputs": [
        {
          "output_type": "execute_result",
          "data": {
            "text/plain": [
              "array([1, 2, 3, 4, 5, 6, 7, 8])"
            ]
          },
          "metadata": {
            "tags": []
          },
          "execution_count": 7
        }
      ]
    },
    {
      "cell_type": "code",
      "metadata": {
        "id": "kc-o2LQ84vfE",
        "colab": {
          "base_uri": "https://localhost:8080/"
        },
        "outputId": "df1409b5-8ae9-42a6-a14e-74bec7593e90"
      },
      "source": [
        "tuple1 = ([8, 4, 6], [1, 2, 3])\n",
        "array2 = np.array(tuple1)\n",
        "array2"
      ],
      "execution_count": 8,
      "outputs": [
        {
          "output_type": "execute_result",
          "data": {
            "text/plain": [
              "array([[8, 4, 6],\n",
              "       [1, 2, 3]])"
            ]
          },
          "metadata": {
            "tags": []
          },
          "execution_count": 8
        }
      ]
    },
    {
      "cell_type": "markdown",
      "metadata": {
        "id": "d4r8Pd7AurdY"
      },
      "source": [
        "7.  Write a NumPy program to change the dimension of an array. <br>\n",
        "Expected Output:<br>\n",
        "6 rows and 0 columns<br>\n",
        "(6,)<br>\n",
        "(3, 3) -> 3 rows and 3 columns<br>\n",
        "[[1 2 3]<br>\n",
        "[4 5 6]<br>\n",
        "[7 8 9]]<br>\n",
        "Change array shape to (3, 3) -> 3 rows and 3 columns<br>\n",
        "[[1 2 3]<br>\n",
        "[4 5 6]<br>\n",
        "[7 8 9]]<br>\n",
        "\n",
        "SOL: https://www.w3resource.com/python-exercises/numpy/python-numpy-exercise-35.php"
      ]
    },
    {
      "cell_type": "code",
      "metadata": {
        "id": "mP2STm_3vbxS",
        "colab": {
          "base_uri": "https://localhost:8080/"
        },
        "outputId": "67143feb-2cb8-4469-cd24-28be8cf08cbe"
      },
      "source": [
        "x = np.array([1, 2, 3, 4, 5, 6, 7, 8, 9])\n",
        "x.shape = (3, 3)  # or x.reshape(3,3)\n",
        "x"
      ],
      "execution_count": 9,
      "outputs": [
        {
          "output_type": "execute_result",
          "data": {
            "text/plain": [
              "array([[1, 2, 3],\n",
              "       [4, 5, 6],\n",
              "       [7, 8, 9]])"
            ]
          },
          "metadata": {
            "tags": []
          },
          "execution_count": 9
        }
      ]
    },
    {
      "cell_type": "markdown",
      "metadata": {
        "id": "B_ejqDDTvcNu"
      },
      "source": [
        "8. Write a NumPy program to compute the multiplication of two given matrices.<br>\n",
        "SOL: https://www.w3resource.com/python-exercises/numpy/linear-algebra/numpy-linear-algebra-exercise-1.php"
      ]
    },
    {
      "cell_type": "code",
      "metadata": {
        "id": "3Ln__JUkvvDY",
        "colab": {
          "base_uri": "https://localhost:8080/"
        },
        "outputId": "56df84ba-086c-459e-f25d-8597c30eee75"
      },
      "source": [
        "x = np.random.randint(0, 10, (3, 3))\n",
        "y = np.random.randint(0, 10, (3, 3))\n",
        "print(\"x =\", x)\n",
        "print()\n",
        "print(\"y =\", y)\n",
        "print()\n",
        "print(\"x * y =\\n\", x.dot(y))  # or np.dot(x, y)"
      ],
      "execution_count": 10,
      "outputs": [
        {
          "output_type": "stream",
          "text": [
            "x = [[7 0 9]\n",
            " [5 9 6]\n",
            " [1 1 3]]\n",
            "\n",
            "y = [[5 8 5]\n",
            " [5 0 2]\n",
            " [8 0 5]]\n",
            "\n",
            "x * y =\n",
            " [[107  56  80]\n",
            " [118  40  73]\n",
            " [ 34   8  22]]\n"
          ],
          "name": "stdout"
        }
      ]
    },
    {
      "cell_type": "markdown",
      "metadata": {
        "id": "RSiImYM6vvvp"
      },
      "source": [
        "9. Write a NumPy program to create a 3x3x3 array with random values. <br>\n",
        "Expected Output: <br>\n",
        "[[[ 0.48941799 0.58722213 0.43453926] <br>\n",
        "[ 0.94497547 0.81081709 0.1510409 ] <br>\n",
        "[ 0.66657127 0.29494755 0.48047144]] <br>\n",
        "[[ 0.02287253 0.95232614 0.32264936] <br>\n",
        "[ 0.67009741 0.25458304 0.16290913] <br>\n",
        "[ 0.15520198 0.86826529 0.9679322 ]]  <br>\n",
        "[[ 0.13503103 0.02042211 0.24683897]  <br>\n",
        "[ 0.97852158 0.22374748 0.10798856]  <br>\n",
        "[ 0.62032646 0.5893892 0.16958144]]] <br>\n",
        "\n",
        "SOL: https://www.w3resource.com/python-exercises/numpy/python-numpy-random-exercise-3.php"
      ]
    },
    {
      "cell_type": "code",
      "metadata": {
        "id": "eUVGJozewBmu",
        "colab": {
          "base_uri": "https://localhost:8080/"
        },
        "outputId": "c47b8906-79e8-486a-fe80-ece3d93b2dc1"
      },
      "source": [
        "np.random.rand(3, 3, 3)"
      ],
      "execution_count": 11,
      "outputs": [
        {
          "output_type": "execute_result",
          "data": {
            "text/plain": [
              "array([[[0.11148191, 0.99119109, 0.63218625],\n",
              "        [0.99087253, 0.89044945, 0.12931857],\n",
              "        [0.41950468, 0.9649162 , 0.70935227]],\n",
              "\n",
              "       [[0.50537145, 0.91265051, 0.26724842],\n",
              "        [0.61586537, 0.76904899, 0.09805525],\n",
              "        [0.95575831, 0.8604493 , 0.34176048]],\n",
              "\n",
              "       [[0.04060763, 0.85377759, 0.757921  ],\n",
              "        [0.65122285, 0.65792419, 0.15102041],\n",
              "        [0.11067379, 0.26561665, 0.77454827]]])"
            ]
          },
          "metadata": {
            "tags": []
          },
          "execution_count": 11
        }
      ]
    },
    {
      "cell_type": "markdown",
      "metadata": {
        "id": "qdS-JHdowCDu"
      },
      "source": [
        "10. Write a NumPy program to sort the student id with increasing height of the students from given students id and height. Print the integer indices that describes the sort order by multiple columns and the sorted data. <br>\n",
        "Expected Output: <br>\n",
        "Sorted indices: <br>\n",
        "[4 0 5 3 6 1 2] <br>\n",
        "Sorted data:  <br>\n",
        "1682 38.0  <br>\n",
        "1023 40.0  <br>\n",
        "5241 40.0  <br>\n",
        "1671 41.0  <br>\n",
        "4532 42.0  <br>\n",
        "5202 42.0  <br>\n",
        "6230 45.0  <br>\n",
        "\n",
        "SOL: https://www.w3resource.com/python-exercises/numpy/python-numpy-sorting-and-searching-exercise-4.php"
      ]
    },
    {
      "cell_type": "code",
      "metadata": {
        "id": "FKbvbEpPwfJb",
        "colab": {
          "base_uri": "https://localhost:8080/"
        },
        "outputId": "ee5ba7ba-c851-4111-c0db-08b3f23b9ad1"
      },
      "source": [
        "student_id = np.array([1023, 5202, 6230, 1671, 1682, 5241, 4532])\n",
        "student_height = np.array([40., 42., 45., 41., 38., 40., 42.0])\n",
        "# Sort by studen_id then by student_height\n",
        "indices = np.lexsort((student_id, student_height))\n",
        "print(\"Sorted indices:\")\n",
        "print(indices)\n",
        "print(\"Sorted data:\")\n",
        "for i in indices:\n",
        "    print(student_id[i], student_height[i])"
      ],
      "execution_count": 12,
      "outputs": [
        {
          "output_type": "stream",
          "text": [
            "Sorted indices:\n",
            "[4 0 5 3 6 1 2]\n",
            "Sorted data:\n",
            "1682 38.0\n",
            "1023 40.0\n",
            "5241 40.0\n",
            "1671 41.0\n",
            "4532 42.0\n",
            "5202 42.0\n",
            "6230 45.0\n"
          ],
          "name": "stdout"
        }
      ]
    }
  ]
}